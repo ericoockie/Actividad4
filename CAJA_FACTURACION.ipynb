{
 "cells": [
  {
   "cell_type": "code",
   "execution_count": 124,
   "metadata": {},
   "outputs": [],
   "source": [
    "listado = open('Lista de articulos.txt')\n",
    "#print(listado.read())\n",
    "#listado.close()"
   ]
  },
  {
   "cell_type": "code",
   "execution_count": 143,
   "metadata": {},
   "outputs": [],
   "source": [
    "def buscar_articulo(articulo):\n",
    "    acumulador =  0\n",
    "    with open('Lista de articulos.txt') as listado:\n",
    "        for i in listado.readlines():\n",
    "            a = i.split(\",\")\n",
    "            if (a[0]==articulo):\n",
    "                impuesto = input(\"Este articulo cobra impuesto s/n\")\n",
    "                if (impuesto == \"s\"):\n",
    "                    acumulador += float(a[1])*1.07\n",
    "                    print (a[0],\" \",a[1], \"+\",a[2])\n",
    "                elif (impuesto == \"n\"):\n",
    "                    acumulador += float(a[1])\n",
    "                    print (a[0],\" \",a[1])\n",
    "                #lista.append(i)\n",
    "                \n",
    "            #else:\n",
    "                    #print(\"Este articulo no se encuentra en inventario\")\n"
   ]
  },
  {
   "cell_type": "code",
   "execution_count": null,
   "metadata": {},
   "outputs": [],
   "source": [
    "continuar = 's'\n",
    "\n",
    "while continuar == 's':\n",
    "    articulo = input(\"Ingrese articulo a comprar\")\n",
    "    #listado = open('Lista de articulos.txt')\n",
    "    buscar_articulo(articulo)    \n",
    "    continuar = input(\"Desea continuar? s/n\")\n",
    "\n",
    "print ('Total a pagar: ')\n",
    "print(acumulador)          \n",
    "\n"
   ]
  },
  {
   "cell_type": "code",
   "execution_count": 68,
   "metadata": {},
   "outputs": [
    {
     "data": {
      "text/plain": [
       "'pan'"
      ]
     },
     "execution_count": 68,
     "metadata": {},
     "output_type": "execute_result"
    }
   ],
   "source": [
    "acumulador = 0\n",
    "while valor = true:\n",
    "    articulo = input(\"Ingrese articulo a comprar\")\n",
    "    \n"
   ]
  }
 ],
 "metadata": {
  "kernelspec": {
   "display_name": "Python 3",
   "language": "python",
   "name": "python3"
  },
  "language_info": {
   "codemirror_mode": {
    "name": "ipython",
    "version": 3
   },
   "file_extension": ".py",
   "mimetype": "text/x-python",
   "name": "python",
   "nbconvert_exporter": "python",
   "pygments_lexer": "ipython3",
   "version": "3.11.0"
  },
  "orig_nbformat": 4
 },
 "nbformat": 4,
 "nbformat_minor": 2
}
